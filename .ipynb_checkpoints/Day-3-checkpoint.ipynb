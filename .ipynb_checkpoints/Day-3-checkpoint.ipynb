{
 "cells": [
  {
   "cell_type": "code",
   "execution_count": 1,
   "id": "85f8b99c-2aad-48ca-b3e1-759ab3ac4672",
   "metadata": {},
   "outputs": [],
   "source": [
    "import pandas as pd"
   ]
  },
  {
   "cell_type": "code",
   "execution_count": 2,
   "id": "394fbde5-09a2-4e96-955f-22c86e4b5883",
   "metadata": {},
   "outputs": [],
   "source": [
    "df = pd.read_csv('food-price-index-september-2023-index-numbers.csv')"
   ]
  },
  {
   "cell_type": "code",
   "execution_count": 3,
   "id": "c1fc7b2a-5761-49dd-b11e-056677cf5d31",
   "metadata": {},
   "outputs": [
    {
     "data": {
      "text/html": [
       "<div>\n",
       "<style scoped>\n",
       "    .dataframe tbody tr th:only-of-type {\n",
       "        vertical-align: middle;\n",
       "    }\n",
       "\n",
       "    .dataframe tbody tr th {\n",
       "        vertical-align: top;\n",
       "    }\n",
       "\n",
       "    .dataframe thead th {\n",
       "        text-align: right;\n",
       "    }\n",
       "</style>\n",
       "<table border=\"1\" class=\"dataframe\">\n",
       "  <thead>\n",
       "    <tr style=\"text-align: right;\">\n",
       "      <th></th>\n",
       "      <th>Series_reference</th>\n",
       "      <th>Period</th>\n",
       "      <th>Data_value</th>\n",
       "      <th>STATUS</th>\n",
       "      <th>UNITS</th>\n",
       "      <th>Subject</th>\n",
       "      <th>Group</th>\n",
       "      <th>Series_title_1</th>\n",
       "    </tr>\n",
       "  </thead>\n",
       "  <tbody>\n",
       "    <tr>\n",
       "      <th>0</th>\n",
       "      <td>CPIM.SE901</td>\n",
       "      <td>1960.01</td>\n",
       "      <td>45.923461</td>\n",
       "      <td>FINAL</td>\n",
       "      <td>Index</td>\n",
       "      <td>Consumers Price Index - CPI</td>\n",
       "      <td>Food Price Index for New Zealand</td>\n",
       "      <td>Food</td>\n",
       "    </tr>\n",
       "    <tr>\n",
       "      <th>1</th>\n",
       "      <td>CPIM.SE901</td>\n",
       "      <td>1960.02</td>\n",
       "      <td>45.498637</td>\n",
       "      <td>FINAL</td>\n",
       "      <td>Index</td>\n",
       "      <td>Consumers Price Index - CPI</td>\n",
       "      <td>Food Price Index for New Zealand</td>\n",
       "      <td>Food</td>\n",
       "    </tr>\n",
       "    <tr>\n",
       "      <th>2</th>\n",
       "      <td>CPIM.SE901</td>\n",
       "      <td>1960.03</td>\n",
       "      <td>45.116296</td>\n",
       "      <td>FINAL</td>\n",
       "      <td>Index</td>\n",
       "      <td>Consumers Price Index - CPI</td>\n",
       "      <td>Food Price Index for New Zealand</td>\n",
       "      <td>Food</td>\n",
       "    </tr>\n",
       "    <tr>\n",
       "      <th>3</th>\n",
       "      <td>CPIM.SE901</td>\n",
       "      <td>1960.04</td>\n",
       "      <td>45.158779</td>\n",
       "      <td>FINAL</td>\n",
       "      <td>Index</td>\n",
       "      <td>Consumers Price Index - CPI</td>\n",
       "      <td>Food Price Index for New Zealand</td>\n",
       "      <td>Food</td>\n",
       "    </tr>\n",
       "    <tr>\n",
       "      <th>4</th>\n",
       "      <td>CPIM.SE901</td>\n",
       "      <td>1960.05</td>\n",
       "      <td>45.286226</td>\n",
       "      <td>FINAL</td>\n",
       "      <td>Index</td>\n",
       "      <td>Consumers Price Index - CPI</td>\n",
       "      <td>Food Price Index for New Zealand</td>\n",
       "      <td>Food</td>\n",
       "    </tr>\n",
       "    <tr>\n",
       "      <th>...</th>\n",
       "      <td>...</td>\n",
       "      <td>...</td>\n",
       "      <td>...</td>\n",
       "      <td>...</td>\n",
       "      <td>...</td>\n",
       "      <td>...</td>\n",
       "      <td>...</td>\n",
       "      <td>...</td>\n",
       "    </tr>\n",
       "    <tr>\n",
       "      <th>12863</th>\n",
       "      <td>CPIM.SE901502</td>\n",
       "      <td>2023.05</td>\n",
       "      <td>1347.000000</td>\n",
       "      <td>FINAL</td>\n",
       "      <td>Index</td>\n",
       "      <td>Consumers Price Index - CPI</td>\n",
       "      <td>Food Price Index Level 3 Classes for New Zealand</td>\n",
       "      <td>Ready-to-eat food</td>\n",
       "    </tr>\n",
       "    <tr>\n",
       "      <th>12864</th>\n",
       "      <td>CPIM.SE901502</td>\n",
       "      <td>2023.06</td>\n",
       "      <td>1361.000000</td>\n",
       "      <td>FINAL</td>\n",
       "      <td>Index</td>\n",
       "      <td>Consumers Price Index - CPI</td>\n",
       "      <td>Food Price Index Level 3 Classes for New Zealand</td>\n",
       "      <td>Ready-to-eat food</td>\n",
       "    </tr>\n",
       "    <tr>\n",
       "      <th>12865</th>\n",
       "      <td>CPIM.SE901502</td>\n",
       "      <td>2023.07</td>\n",
       "      <td>1366.000000</td>\n",
       "      <td>FINAL</td>\n",
       "      <td>Index</td>\n",
       "      <td>Consumers Price Index - CPI</td>\n",
       "      <td>Food Price Index Level 3 Classes for New Zealand</td>\n",
       "      <td>Ready-to-eat food</td>\n",
       "    </tr>\n",
       "    <tr>\n",
       "      <th>12866</th>\n",
       "      <td>CPIM.SE901502</td>\n",
       "      <td>2023.08</td>\n",
       "      <td>1367.000000</td>\n",
       "      <td>FINAL</td>\n",
       "      <td>Index</td>\n",
       "      <td>Consumers Price Index - CPI</td>\n",
       "      <td>Food Price Index Level 3 Classes for New Zealand</td>\n",
       "      <td>Ready-to-eat food</td>\n",
       "    </tr>\n",
       "    <tr>\n",
       "      <th>12867</th>\n",
       "      <td>CPIM.SE901502</td>\n",
       "      <td>2023.09</td>\n",
       "      <td>1370.000000</td>\n",
       "      <td>FINAL</td>\n",
       "      <td>Index</td>\n",
       "      <td>Consumers Price Index - CPI</td>\n",
       "      <td>Food Price Index Level 3 Classes for New Zealand</td>\n",
       "      <td>Ready-to-eat food</td>\n",
       "    </tr>\n",
       "  </tbody>\n",
       "</table>\n",
       "<p>12868 rows × 8 columns</p>\n",
       "</div>"
      ],
      "text/plain": [
       "      Series_reference   Period   Data_value STATUS  UNITS  \\\n",
       "0           CPIM.SE901  1960.01    45.923461  FINAL  Index   \n",
       "1           CPIM.SE901  1960.02    45.498637  FINAL  Index   \n",
       "2           CPIM.SE901  1960.03    45.116296  FINAL  Index   \n",
       "3           CPIM.SE901  1960.04    45.158779  FINAL  Index   \n",
       "4           CPIM.SE901  1960.05    45.286226  FINAL  Index   \n",
       "...                ...      ...          ...    ...    ...   \n",
       "12863    CPIM.SE901502  2023.05  1347.000000  FINAL  Index   \n",
       "12864    CPIM.SE901502  2023.06  1361.000000  FINAL  Index   \n",
       "12865    CPIM.SE901502  2023.07  1366.000000  FINAL  Index   \n",
       "12866    CPIM.SE901502  2023.08  1367.000000  FINAL  Index   \n",
       "12867    CPIM.SE901502  2023.09  1370.000000  FINAL  Index   \n",
       "\n",
       "                           Subject  \\\n",
       "0      Consumers Price Index - CPI   \n",
       "1      Consumers Price Index - CPI   \n",
       "2      Consumers Price Index - CPI   \n",
       "3      Consumers Price Index - CPI   \n",
       "4      Consumers Price Index - CPI   \n",
       "...                            ...   \n",
       "12863  Consumers Price Index - CPI   \n",
       "12864  Consumers Price Index - CPI   \n",
       "12865  Consumers Price Index - CPI   \n",
       "12866  Consumers Price Index - CPI   \n",
       "12867  Consumers Price Index - CPI   \n",
       "\n",
       "                                                  Group     Series_title_1  \n",
       "0                      Food Price Index for New Zealand               Food  \n",
       "1                      Food Price Index for New Zealand               Food  \n",
       "2                      Food Price Index for New Zealand               Food  \n",
       "3                      Food Price Index for New Zealand               Food  \n",
       "4                      Food Price Index for New Zealand               Food  \n",
       "...                                                 ...                ...  \n",
       "12863  Food Price Index Level 3 Classes for New Zealand  Ready-to-eat food  \n",
       "12864  Food Price Index Level 3 Classes for New Zealand  Ready-to-eat food  \n",
       "12865  Food Price Index Level 3 Classes for New Zealand  Ready-to-eat food  \n",
       "12866  Food Price Index Level 3 Classes for New Zealand  Ready-to-eat food  \n",
       "12867  Food Price Index Level 3 Classes for New Zealand  Ready-to-eat food  \n",
       "\n",
       "[12868 rows x 8 columns]"
      ]
     },
     "execution_count": 3,
     "metadata": {},
     "output_type": "execute_result"
    }
   ],
   "source": [
    "df"
   ]
  },
  {
   "cell_type": "code",
   "execution_count": 4,
   "id": "a1049f17-3559-4d14-9b89-9d14db7a6c05",
   "metadata": {},
   "outputs": [
    {
     "data": {
      "text/plain": [
       "(12868, 8)"
      ]
     },
     "execution_count": 4,
     "metadata": {},
     "output_type": "execute_result"
    }
   ],
   "source": [
    "# to show how many rows and column \n",
    "df.shape"
   ]
  },
  {
   "cell_type": "code",
   "execution_count": 6,
   "id": "b1fc95a5-51bd-4b67-b2e7-6413c4f6b88b",
   "metadata": {},
   "outputs": [
    {
     "data": {
      "text/plain": [
       "Series_reference     object\n",
       "Period              float64\n",
       "Data_value          float64\n",
       "STATUS               object\n",
       "UNITS                object\n",
       "Subject              object\n",
       "Group                object\n",
       "Series_title_1       object\n",
       "dtype: object"
      ]
     },
     "execution_count": 6,
     "metadata": {},
     "output_type": "execute_result"
    }
   ],
   "source": [
    "df.dtypes\n",
    "# we will get column type "
   ]
  },
  {
   "cell_type": "code",
   "execution_count": 8,
   "id": "5b7b9bed-d798-4b7d-aeb1-236f8faa3803",
   "metadata": {},
   "outputs": [
    {
     "data": {
      "text/plain": [
       "0        1960.01\n",
       "1        1960.02\n",
       "2        1960.03\n",
       "3        1960.04\n",
       "4        1960.05\n",
       "          ...   \n",
       "12863    2023.05\n",
       "12864    2023.06\n",
       "12865    2023.07\n",
       "12866    2023.08\n",
       "12867    2023.09\n",
       "Name: Period, Length: 12868, dtype: float64"
      ]
     },
     "execution_count": 8,
     "metadata": {},
     "output_type": "execute_result"
    }
   ],
   "source": [
    "df['Period']  # to fetch perticular column"
   ]
  },
  {
   "cell_type": "code",
   "execution_count": 10,
   "id": "dd3d1e96-ea54-42d6-ae7a-0f3c0bacc003",
   "metadata": {},
   "outputs": [
    {
     "data": {
      "text/html": [
       "<div>\n",
       "<style scoped>\n",
       "    .dataframe tbody tr th:only-of-type {\n",
       "        vertical-align: middle;\n",
       "    }\n",
       "\n",
       "    .dataframe tbody tr th {\n",
       "        vertical-align: top;\n",
       "    }\n",
       "\n",
       "    .dataframe thead th {\n",
       "        text-align: right;\n",
       "    }\n",
       "</style>\n",
       "<table border=\"1\" class=\"dataframe\">\n",
       "  <thead>\n",
       "    <tr style=\"text-align: right;\">\n",
       "      <th></th>\n",
       "      <th>Series_reference</th>\n",
       "      <th>Period</th>\n",
       "      <th>Data_value</th>\n",
       "      <th>STATUS</th>\n",
       "      <th>UNITS</th>\n",
       "      <th>Subject</th>\n",
       "      <th>Group</th>\n",
       "      <th>Series_title_1</th>\n",
       "    </tr>\n",
       "  </thead>\n",
       "  <tbody>\n",
       "    <tr>\n",
       "      <th>0</th>\n",
       "      <td>CPIM.SE901</td>\n",
       "      <td>1960.01</td>\n",
       "      <td>45.923461</td>\n",
       "      <td>FINAL</td>\n",
       "      <td>Index</td>\n",
       "      <td>Consumers Price Index - CPI</td>\n",
       "      <td>Food Price Index for New Zealand</td>\n",
       "      <td>Food</td>\n",
       "    </tr>\n",
       "    <tr>\n",
       "      <th>1</th>\n",
       "      <td>CPIM.SE901</td>\n",
       "      <td>1960.02</td>\n",
       "      <td>45.498637</td>\n",
       "      <td>FINAL</td>\n",
       "      <td>Index</td>\n",
       "      <td>Consumers Price Index - CPI</td>\n",
       "      <td>Food Price Index for New Zealand</td>\n",
       "      <td>Food</td>\n",
       "    </tr>\n",
       "    <tr>\n",
       "      <th>2</th>\n",
       "      <td>CPIM.SE901</td>\n",
       "      <td>1960.03</td>\n",
       "      <td>45.116296</td>\n",
       "      <td>FINAL</td>\n",
       "      <td>Index</td>\n",
       "      <td>Consumers Price Index - CPI</td>\n",
       "      <td>Food Price Index for New Zealand</td>\n",
       "      <td>Food</td>\n",
       "    </tr>\n",
       "    <tr>\n",
       "      <th>3</th>\n",
       "      <td>CPIM.SE901</td>\n",
       "      <td>1960.04</td>\n",
       "      <td>45.158779</td>\n",
       "      <td>FINAL</td>\n",
       "      <td>Index</td>\n",
       "      <td>Consumers Price Index - CPI</td>\n",
       "      <td>Food Price Index for New Zealand</td>\n",
       "      <td>Food</td>\n",
       "    </tr>\n",
       "    <tr>\n",
       "      <th>4</th>\n",
       "      <td>CPIM.SE901</td>\n",
       "      <td>1960.05</td>\n",
       "      <td>45.286226</td>\n",
       "      <td>FINAL</td>\n",
       "      <td>Index</td>\n",
       "      <td>Consumers Price Index - CPI</td>\n",
       "      <td>Food Price Index for New Zealand</td>\n",
       "      <td>Food</td>\n",
       "    </tr>\n",
       "  </tbody>\n",
       "</table>\n",
       "</div>"
      ],
      "text/plain": [
       "  Series_reference   Period  Data_value STATUS  UNITS  \\\n",
       "0       CPIM.SE901  1960.01   45.923461  FINAL  Index   \n",
       "1       CPIM.SE901  1960.02   45.498637  FINAL  Index   \n",
       "2       CPIM.SE901  1960.03   45.116296  FINAL  Index   \n",
       "3       CPIM.SE901  1960.04   45.158779  FINAL  Index   \n",
       "4       CPIM.SE901  1960.05   45.286226  FINAL  Index   \n",
       "\n",
       "                       Subject                             Group  \\\n",
       "0  Consumers Price Index - CPI  Food Price Index for New Zealand   \n",
       "1  Consumers Price Index - CPI  Food Price Index for New Zealand   \n",
       "2  Consumers Price Index - CPI  Food Price Index for New Zealand   \n",
       "3  Consumers Price Index - CPI  Food Price Index for New Zealand   \n",
       "4  Consumers Price Index - CPI  Food Price Index for New Zealand   \n",
       "\n",
       "  Series_title_1  \n",
       "0           Food  \n",
       "1           Food  \n",
       "2           Food  \n",
       "3           Food  \n",
       "4           Food  "
      ]
     },
     "execution_count": 10,
     "metadata": {},
     "output_type": "execute_result"
    }
   ],
   "source": [
    "df.head()   # by default show first 5 no. of data"
   ]
  },
  {
   "cell_type": "code",
   "execution_count": 12,
   "id": "a51ec5ac-3c2a-474a-89e1-450904b7de07",
   "metadata": {},
   "outputs": [
    {
     "data": {
      "text/html": [
       "<div>\n",
       "<style scoped>\n",
       "    .dataframe tbody tr th:only-of-type {\n",
       "        vertical-align: middle;\n",
       "    }\n",
       "\n",
       "    .dataframe tbody tr th {\n",
       "        vertical-align: top;\n",
       "    }\n",
       "\n",
       "    .dataframe thead th {\n",
       "        text-align: right;\n",
       "    }\n",
       "</style>\n",
       "<table border=\"1\" class=\"dataframe\">\n",
       "  <thead>\n",
       "    <tr style=\"text-align: right;\">\n",
       "      <th></th>\n",
       "      <th>Series_reference</th>\n",
       "      <th>Period</th>\n",
       "      <th>Data_value</th>\n",
       "      <th>STATUS</th>\n",
       "      <th>UNITS</th>\n",
       "      <th>Subject</th>\n",
       "      <th>Group</th>\n",
       "      <th>Series_title_1</th>\n",
       "    </tr>\n",
       "  </thead>\n",
       "  <tbody>\n",
       "    <tr>\n",
       "      <th>12863</th>\n",
       "      <td>CPIM.SE901502</td>\n",
       "      <td>2023.05</td>\n",
       "      <td>1347.0</td>\n",
       "      <td>FINAL</td>\n",
       "      <td>Index</td>\n",
       "      <td>Consumers Price Index - CPI</td>\n",
       "      <td>Food Price Index Level 3 Classes for New Zealand</td>\n",
       "      <td>Ready-to-eat food</td>\n",
       "    </tr>\n",
       "    <tr>\n",
       "      <th>12864</th>\n",
       "      <td>CPIM.SE901502</td>\n",
       "      <td>2023.06</td>\n",
       "      <td>1361.0</td>\n",
       "      <td>FINAL</td>\n",
       "      <td>Index</td>\n",
       "      <td>Consumers Price Index - CPI</td>\n",
       "      <td>Food Price Index Level 3 Classes for New Zealand</td>\n",
       "      <td>Ready-to-eat food</td>\n",
       "    </tr>\n",
       "    <tr>\n",
       "      <th>12865</th>\n",
       "      <td>CPIM.SE901502</td>\n",
       "      <td>2023.07</td>\n",
       "      <td>1366.0</td>\n",
       "      <td>FINAL</td>\n",
       "      <td>Index</td>\n",
       "      <td>Consumers Price Index - CPI</td>\n",
       "      <td>Food Price Index Level 3 Classes for New Zealand</td>\n",
       "      <td>Ready-to-eat food</td>\n",
       "    </tr>\n",
       "    <tr>\n",
       "      <th>12866</th>\n",
       "      <td>CPIM.SE901502</td>\n",
       "      <td>2023.08</td>\n",
       "      <td>1367.0</td>\n",
       "      <td>FINAL</td>\n",
       "      <td>Index</td>\n",
       "      <td>Consumers Price Index - CPI</td>\n",
       "      <td>Food Price Index Level 3 Classes for New Zealand</td>\n",
       "      <td>Ready-to-eat food</td>\n",
       "    </tr>\n",
       "    <tr>\n",
       "      <th>12867</th>\n",
       "      <td>CPIM.SE901502</td>\n",
       "      <td>2023.09</td>\n",
       "      <td>1370.0</td>\n",
       "      <td>FINAL</td>\n",
       "      <td>Index</td>\n",
       "      <td>Consumers Price Index - CPI</td>\n",
       "      <td>Food Price Index Level 3 Classes for New Zealand</td>\n",
       "      <td>Ready-to-eat food</td>\n",
       "    </tr>\n",
       "  </tbody>\n",
       "</table>\n",
       "</div>"
      ],
      "text/plain": [
       "      Series_reference   Period  Data_value STATUS  UNITS  \\\n",
       "12863    CPIM.SE901502  2023.05      1347.0  FINAL  Index   \n",
       "12864    CPIM.SE901502  2023.06      1361.0  FINAL  Index   \n",
       "12865    CPIM.SE901502  2023.07      1366.0  FINAL  Index   \n",
       "12866    CPIM.SE901502  2023.08      1367.0  FINAL  Index   \n",
       "12867    CPIM.SE901502  2023.09      1370.0  FINAL  Index   \n",
       "\n",
       "                           Subject  \\\n",
       "12863  Consumers Price Index - CPI   \n",
       "12864  Consumers Price Index - CPI   \n",
       "12865  Consumers Price Index - CPI   \n",
       "12866  Consumers Price Index - CPI   \n",
       "12867  Consumers Price Index - CPI   \n",
       "\n",
       "                                                  Group     Series_title_1  \n",
       "12863  Food Price Index Level 3 Classes for New Zealand  Ready-to-eat food  \n",
       "12864  Food Price Index Level 3 Classes for New Zealand  Ready-to-eat food  \n",
       "12865  Food Price Index Level 3 Classes for New Zealand  Ready-to-eat food  \n",
       "12866  Food Price Index Level 3 Classes for New Zealand  Ready-to-eat food  \n",
       "12867  Food Price Index Level 3 Classes for New Zealand  Ready-to-eat food  "
      ]
     },
     "execution_count": 12,
     "metadata": {},
     "output_type": "execute_result"
    }
   ],
   "source": [
    "df.tail()   # by default show lat 5 no. of data"
   ]
  },
  {
   "cell_type": "code",
   "execution_count": 47,
   "id": "5a476756-f917-4376-bbf2-328bc2f91798",
   "metadata": {},
   "outputs": [
    {
     "data": {
      "text/html": [
       "<div>\n",
       "<style scoped>\n",
       "    .dataframe tbody tr th:only-of-type {\n",
       "        vertical-align: middle;\n",
       "    }\n",
       "\n",
       "    .dataframe tbody tr th {\n",
       "        vertical-align: top;\n",
       "    }\n",
       "\n",
       "    .dataframe thead th {\n",
       "        text-align: right;\n",
       "    }\n",
       "</style>\n",
       "<table border=\"1\" class=\"dataframe\">\n",
       "  <thead>\n",
       "    <tr style=\"text-align: right;\">\n",
       "      <th></th>\n",
       "      <th>Series_reference</th>\n",
       "      <th>Period</th>\n",
       "      <th>Data_value</th>\n",
       "      <th>STATUS</th>\n",
       "      <th>UNITS</th>\n",
       "      <th>Subject</th>\n",
       "      <th>Group</th>\n",
       "      <th>Series_title_1</th>\n",
       "    </tr>\n",
       "  </thead>\n",
       "  <tbody>\n",
       "    <tr>\n",
       "      <th>0</th>\n",
       "      <td>CPIM.SE901</td>\n",
       "      <td>1960.01</td>\n",
       "      <td>45.923461</td>\n",
       "      <td>FINAL</td>\n",
       "      <td>Index</td>\n",
       "      <td>Consumers Price Index - CPI</td>\n",
       "      <td>Food Price Index for New Zealand</td>\n",
       "      <td>Food</td>\n",
       "    </tr>\n",
       "    <tr>\n",
       "      <th>1</th>\n",
       "      <td>CPIM.SE901</td>\n",
       "      <td>1960.02</td>\n",
       "      <td>45.498637</td>\n",
       "      <td>FINAL</td>\n",
       "      <td>Index</td>\n",
       "      <td>Consumers Price Index - CPI</td>\n",
       "      <td>Food Price Index for New Zealand</td>\n",
       "      <td>Food</td>\n",
       "    </tr>\n",
       "    <tr>\n",
       "      <th>2</th>\n",
       "      <td>CPIM.SE901</td>\n",
       "      <td>1960.03</td>\n",
       "      <td>45.116296</td>\n",
       "      <td>FINAL</td>\n",
       "      <td>Index</td>\n",
       "      <td>Consumers Price Index - CPI</td>\n",
       "      <td>Food Price Index for New Zealand</td>\n",
       "      <td>Food</td>\n",
       "    </tr>\n",
       "    <tr>\n",
       "      <th>3</th>\n",
       "      <td>CPIM.SE901</td>\n",
       "      <td>1960.04</td>\n",
       "      <td>45.158779</td>\n",
       "      <td>FINAL</td>\n",
       "      <td>Index</td>\n",
       "      <td>Consumers Price Index - CPI</td>\n",
       "      <td>Food Price Index for New Zealand</td>\n",
       "      <td>Food</td>\n",
       "    </tr>\n",
       "    <tr>\n",
       "      <th>4</th>\n",
       "      <td>CPIM.SE901</td>\n",
       "      <td>1960.05</td>\n",
       "      <td>45.286226</td>\n",
       "      <td>FINAL</td>\n",
       "      <td>Index</td>\n",
       "      <td>Consumers Price Index - CPI</td>\n",
       "      <td>Food Price Index for New Zealand</td>\n",
       "      <td>Food</td>\n",
       "    </tr>\n",
       "  </tbody>\n",
       "</table>\n",
       "</div>"
      ],
      "text/plain": [
       "  Series_reference   Period  Data_value STATUS  UNITS  \\\n",
       "0       CPIM.SE901  1960.01   45.923461  FINAL  Index   \n",
       "1       CPIM.SE901  1960.02   45.498637  FINAL  Index   \n",
       "2       CPIM.SE901  1960.03   45.116296  FINAL  Index   \n",
       "3       CPIM.SE901  1960.04   45.158779  FINAL  Index   \n",
       "4       CPIM.SE901  1960.05   45.286226  FINAL  Index   \n",
       "\n",
       "                       Subject                             Group  \\\n",
       "0  Consumers Price Index - CPI  Food Price Index for New Zealand   \n",
       "1  Consumers Price Index - CPI  Food Price Index for New Zealand   \n",
       "2  Consumers Price Index - CPI  Food Price Index for New Zealand   \n",
       "3  Consumers Price Index - CPI  Food Price Index for New Zealand   \n",
       "4  Consumers Price Index - CPI  Food Price Index for New Zealand   \n",
       "\n",
       "  Series_title_1  \n",
       "0           Food  \n",
       "1           Food  \n",
       "2           Food  \n",
       "3           Food  \n",
       "4           Food  "
      ]
     },
     "execution_count": 47,
     "metadata": {},
     "output_type": "execute_result"
    }
   ],
   "source": [
    "df.head()"
   ]
  },
  {
   "cell_type": "code",
   "execution_count": 14,
   "id": "2aa2a113-966c-4064-81a8-176315aed7af",
   "metadata": {},
   "outputs": [
    {
     "data": {
      "text/html": [
       "<div>\n",
       "<style scoped>\n",
       "    .dataframe tbody tr th:only-of-type {\n",
       "        vertical-align: middle;\n",
       "    }\n",
       "\n",
       "    .dataframe tbody tr th {\n",
       "        vertical-align: top;\n",
       "    }\n",
       "\n",
       "    .dataframe thead th {\n",
       "        text-align: right;\n",
       "    }\n",
       "</style>\n",
       "<table border=\"1\" class=\"dataframe\">\n",
       "  <thead>\n",
       "    <tr style=\"text-align: right;\">\n",
       "      <th></th>\n",
       "      <th>Series_reference</th>\n",
       "      <th>Period</th>\n",
       "      <th>Data_value</th>\n",
       "      <th>STATUS</th>\n",
       "      <th>UNITS</th>\n",
       "      <th>Subject</th>\n",
       "      <th>Group</th>\n",
       "      <th>Series_title_1</th>\n",
       "    </tr>\n",
       "  </thead>\n",
       "  <tbody>\n",
       "    <tr>\n",
       "      <th>0</th>\n",
       "      <td>CPIM.SE901</td>\n",
       "      <td>1960.01</td>\n",
       "      <td>45.923461</td>\n",
       "      <td>FINAL</td>\n",
       "      <td>Index</td>\n",
       "      <td>Consumers Price Index - CPI</td>\n",
       "      <td>Food Price Index for New Zealand</td>\n",
       "      <td>Food</td>\n",
       "    </tr>\n",
       "    <tr>\n",
       "      <th>1</th>\n",
       "      <td>CPIM.SE901</td>\n",
       "      <td>1960.02</td>\n",
       "      <td>45.498637</td>\n",
       "      <td>FINAL</td>\n",
       "      <td>Index</td>\n",
       "      <td>Consumers Price Index - CPI</td>\n",
       "      <td>Food Price Index for New Zealand</td>\n",
       "      <td>Food</td>\n",
       "    </tr>\n",
       "    <tr>\n",
       "      <th>2</th>\n",
       "      <td>CPIM.SE901</td>\n",
       "      <td>1960.03</td>\n",
       "      <td>45.116296</td>\n",
       "      <td>FINAL</td>\n",
       "      <td>Index</td>\n",
       "      <td>Consumers Price Index - CPI</td>\n",
       "      <td>Food Price Index for New Zealand</td>\n",
       "      <td>Food</td>\n",
       "    </tr>\n",
       "    <tr>\n",
       "      <th>3</th>\n",
       "      <td>CPIM.SE901</td>\n",
       "      <td>1960.04</td>\n",
       "      <td>45.158779</td>\n",
       "      <td>FINAL</td>\n",
       "      <td>Index</td>\n",
       "      <td>Consumers Price Index - CPI</td>\n",
       "      <td>Food Price Index for New Zealand</td>\n",
       "      <td>Food</td>\n",
       "    </tr>\n",
       "    <tr>\n",
       "      <th>4</th>\n",
       "      <td>CPIM.SE901</td>\n",
       "      <td>1960.05</td>\n",
       "      <td>45.286226</td>\n",
       "      <td>FINAL</td>\n",
       "      <td>Index</td>\n",
       "      <td>Consumers Price Index - CPI</td>\n",
       "      <td>Food Price Index for New Zealand</td>\n",
       "      <td>Food</td>\n",
       "    </tr>\n",
       "    <tr>\n",
       "      <th>5</th>\n",
       "      <td>CPIM.SE901</td>\n",
       "      <td>1960.06</td>\n",
       "      <td>45.668567</td>\n",
       "      <td>FINAL</td>\n",
       "      <td>Index</td>\n",
       "      <td>Consumers Price Index - CPI</td>\n",
       "      <td>Food Price Index for New Zealand</td>\n",
       "      <td>Food</td>\n",
       "    </tr>\n",
       "    <tr>\n",
       "      <th>6</th>\n",
       "      <td>CPIM.SE901</td>\n",
       "      <td>1960.07</td>\n",
       "      <td>46.390767</td>\n",
       "      <td>FINAL</td>\n",
       "      <td>Index</td>\n",
       "      <td>Consumers Price Index - CPI</td>\n",
       "      <td>Food Price Index for New Zealand</td>\n",
       "      <td>Food</td>\n",
       "    </tr>\n",
       "    <tr>\n",
       "      <th>7</th>\n",
       "      <td>CPIM.SE901</td>\n",
       "      <td>1960.08</td>\n",
       "      <td>47.112968</td>\n",
       "      <td>FINAL</td>\n",
       "      <td>Index</td>\n",
       "      <td>Consumers Price Index - CPI</td>\n",
       "      <td>Food Price Index for New Zealand</td>\n",
       "      <td>Food</td>\n",
       "    </tr>\n",
       "    <tr>\n",
       "      <th>8</th>\n",
       "      <td>CPIM.SE901</td>\n",
       "      <td>1960.09</td>\n",
       "      <td>46.943039</td>\n",
       "      <td>FINAL</td>\n",
       "      <td>Index</td>\n",
       "      <td>Consumers Price Index - CPI</td>\n",
       "      <td>Food Price Index for New Zealand</td>\n",
       "      <td>Food</td>\n",
       "    </tr>\n",
       "    <tr>\n",
       "      <th>9</th>\n",
       "      <td>CPIM.SE901</td>\n",
       "      <td>1960.10</td>\n",
       "      <td>47.495310</td>\n",
       "      <td>FINAL</td>\n",
       "      <td>Index</td>\n",
       "      <td>Consumers Price Index - CPI</td>\n",
       "      <td>Food Price Index for New Zealand</td>\n",
       "      <td>Food</td>\n",
       "    </tr>\n",
       "  </tbody>\n",
       "</table>\n",
       "</div>"
      ],
      "text/plain": [
       "  Series_reference   Period  Data_value STATUS  UNITS  \\\n",
       "0       CPIM.SE901  1960.01   45.923461  FINAL  Index   \n",
       "1       CPIM.SE901  1960.02   45.498637  FINAL  Index   \n",
       "2       CPIM.SE901  1960.03   45.116296  FINAL  Index   \n",
       "3       CPIM.SE901  1960.04   45.158779  FINAL  Index   \n",
       "4       CPIM.SE901  1960.05   45.286226  FINAL  Index   \n",
       "5       CPIM.SE901  1960.06   45.668567  FINAL  Index   \n",
       "6       CPIM.SE901  1960.07   46.390767  FINAL  Index   \n",
       "7       CPIM.SE901  1960.08   47.112968  FINAL  Index   \n",
       "8       CPIM.SE901  1960.09   46.943039  FINAL  Index   \n",
       "9       CPIM.SE901  1960.10   47.495310  FINAL  Index   \n",
       "\n",
       "                       Subject                             Group  \\\n",
       "0  Consumers Price Index - CPI  Food Price Index for New Zealand   \n",
       "1  Consumers Price Index - CPI  Food Price Index for New Zealand   \n",
       "2  Consumers Price Index - CPI  Food Price Index for New Zealand   \n",
       "3  Consumers Price Index - CPI  Food Price Index for New Zealand   \n",
       "4  Consumers Price Index - CPI  Food Price Index for New Zealand   \n",
       "5  Consumers Price Index - CPI  Food Price Index for New Zealand   \n",
       "6  Consumers Price Index - CPI  Food Price Index for New Zealand   \n",
       "7  Consumers Price Index - CPI  Food Price Index for New Zealand   \n",
       "8  Consumers Price Index - CPI  Food Price Index for New Zealand   \n",
       "9  Consumers Price Index - CPI  Food Price Index for New Zealand   \n",
       "\n",
       "  Series_title_1  \n",
       "0           Food  \n",
       "1           Food  \n",
       "2           Food  \n",
       "3           Food  \n",
       "4           Food  \n",
       "5           Food  \n",
       "6           Food  \n",
       "7           Food  \n",
       "8           Food  \n",
       "9           Food  "
      ]
     },
     "execution_count": 14,
     "metadata": {},
     "output_type": "execute_result"
    }
   ],
   "source": [
    "df.head(10)   # first 10 no. data"
   ]
  },
  {
   "cell_type": "code",
   "execution_count": 15,
   "id": "de765154-3320-4af1-9d86-bb736e66a812",
   "metadata": {},
   "outputs": [
    {
     "data": {
      "text/plain": [
       "0    CPIM.SE901\n",
       "1    CPIM.SE901\n",
       "2    CPIM.SE901\n",
       "3    CPIM.SE901\n",
       "4    CPIM.SE901\n",
       "5    CPIM.SE901\n",
       "6    CPIM.SE901\n",
       "7    CPIM.SE901\n",
       "8    CPIM.SE901\n",
       "9    CPIM.SE901\n",
       "Name: Series_reference, dtype: object"
      ]
     },
     "execution_count": 15,
     "metadata": {},
     "output_type": "execute_result"
    }
   ],
   "source": [
    "df.head(10)['Series_reference']   "
   ]
  },
  {
   "cell_type": "code",
   "execution_count": 18,
   "id": "f5063f95-1cd0-4e9a-aad9-f482fee163d0",
   "metadata": {},
   "outputs": [
    {
     "data": {
      "text/plain": [
       "Index(['Series_reference', 'Period', 'Data_value', 'STATUS', 'UNITS',\n",
       "       'Subject', 'Group', 'Series_title_1'],\n",
       "      dtype='object')"
      ]
     },
     "execution_count": 18,
     "metadata": {},
     "output_type": "execute_result"
    }
   ],
   "source": [
    "df.columns   # to fetch no. column with name "
   ]
  },
  {
   "cell_type": "code",
   "execution_count": 29,
   "id": "28c7b1eb-daf6-4aa7-8a1b-372f05a4bf82",
   "metadata": {},
   "outputs": [
    {
     "data": {
      "text/plain": [
       "2233.0"
      ]
     },
     "execution_count": 29,
     "metadata": {},
     "output_type": "execute_result"
    }
   ],
   "source": [
    "df['Data_value'].max()  # maximum data value show "
   ]
  },
  {
   "cell_type": "code",
   "execution_count": 26,
   "id": "686cbc63-0dee-48ee-8ca2-bd97d432c737",
   "metadata": {},
   "outputs": [
    {
     "data": {
      "text/plain": [
       "45.11629607"
      ]
     },
     "execution_count": 26,
     "metadata": {},
     "output_type": "execute_result"
    }
   ],
   "source": [
    "df['Data_value'].min() # minimum value show "
   ]
  },
  {
   "cell_type": "code",
   "execution_count": 27,
   "id": "a8072954-edbd-4b1e-b541-d16b51ba070b",
   "metadata": {},
   "outputs": [
    {
     "data": {
      "text/plain": [
       "834.4736561868457"
      ]
     },
     "execution_count": 27,
     "metadata": {},
     "output_type": "execute_result"
    }
   ],
   "source": [
    "df['Data_value'].mean()   #averange value show "
   ]
  },
  {
   "cell_type": "code",
   "execution_count": 30,
   "id": "339e02dc-89fa-4eb6-9647-94e9d2155d27",
   "metadata": {},
   "outputs": [
    {
     "data": {
      "text/plain": [
       "250.23790832020785"
      ]
     },
     "execution_count": 30,
     "metadata": {},
     "output_type": "execute_result"
    }
   ],
   "source": [
    "df['Data_value'].std()  # standard devision "
   ]
  },
  {
   "cell_type": "code",
   "execution_count": 36,
   "id": "db4bd0c6-e666-451b-87b8-eeb00e9069c9",
   "metadata": {},
   "outputs": [
    {
     "data": {
      "text/html": [
       "<div>\n",
       "<style scoped>\n",
       "    .dataframe tbody tr th:only-of-type {\n",
       "        vertical-align: middle;\n",
       "    }\n",
       "\n",
       "    .dataframe tbody tr th {\n",
       "        vertical-align: top;\n",
       "    }\n",
       "\n",
       "    .dataframe thead th {\n",
       "        text-align: right;\n",
       "    }\n",
       "</style>\n",
       "<table border=\"1\" class=\"dataframe\">\n",
       "  <thead>\n",
       "    <tr style=\"text-align: right;\">\n",
       "      <th></th>\n",
       "      <th>Series_reference</th>\n",
       "      <th>Period</th>\n",
       "      <th>Data_value</th>\n",
       "      <th>STATUS</th>\n",
       "      <th>UNITS</th>\n",
       "      <th>Subject</th>\n",
       "      <th>Group</th>\n",
       "      <th>Series_title_1</th>\n",
       "    </tr>\n",
       "  </thead>\n",
       "  <tbody>\n",
       "    <tr>\n",
       "      <th>9700</th>\n",
       "      <td>CPIM.SE9013026</td>\n",
       "      <td>2023.07</td>\n",
       "      <td>2233.0</td>\n",
       "      <td>FINAL</td>\n",
       "      <td>Index</td>\n",
       "      <td>Consumers Price Index - CPI</td>\n",
       "      <td>Food Price Index Level 4 Sections for New Zealand</td>\n",
       "      <td>Eggs</td>\n",
       "    </tr>\n",
       "  </tbody>\n",
       "</table>\n",
       "</div>"
      ],
      "text/plain": [
       "     Series_reference   Period  Data_value STATUS  UNITS  \\\n",
       "9700   CPIM.SE9013026  2023.07      2233.0  FINAL  Index   \n",
       "\n",
       "                          Subject  \\\n",
       "9700  Consumers Price Index - CPI   \n",
       "\n",
       "                                                  Group Series_title_1  \n",
       "9700  Food Price Index Level 4 Sections for New Zealand           Eggs  "
      ]
     },
     "execution_count": 36,
     "metadata": {},
     "output_type": "execute_result"
    }
   ],
   "source": [
    "df[df['Data_value'] == df['Data_value'].max()]  # here we want show which one has max value so here all parameter show by this query"
   ]
  },
  {
   "cell_type": "code",
   "execution_count": 38,
   "id": "2d65ebee-9b1c-4d53-b8a8-491c600f5ccc",
   "metadata": {},
   "outputs": [
    {
     "data": {
      "text/plain": [
       "0        False\n",
       "1        False\n",
       "2        False\n",
       "3        False\n",
       "4        False\n",
       "         ...  \n",
       "12863     True\n",
       "12864     True\n",
       "12865     True\n",
       "12866     True\n",
       "12867     True\n",
       "Name: Data_value, Length: 12868, dtype: bool"
      ]
     },
     "execution_count": 38,
     "metadata": {},
     "output_type": "execute_result"
    }
   ],
   "source": [
    "df['Data_value']>df['Data_value'].mean()  # here  shown in True or false which is grether than mean value"
   ]
  },
  {
   "cell_type": "code",
   "execution_count": 39,
   "id": "071472fe-214a-409d-badf-67674d5780a6",
   "metadata": {},
   "outputs": [],
   "source": [
    "temp = df['Data_value']>df['Data_value'].mean() "
   ]
  },
  {
   "cell_type": "code",
   "execution_count": 40,
   "id": "f70cb550-beb6-4f11-96f2-88a805d12118",
   "metadata": {},
   "outputs": [
    {
     "data": {
      "text/plain": [
       "0        False\n",
       "1        False\n",
       "2        False\n",
       "3        False\n",
       "4        False\n",
       "         ...  \n",
       "12863     True\n",
       "12864     True\n",
       "12865     True\n",
       "12866     True\n",
       "12867     True\n",
       "Name: Data_value, Length: 12868, dtype: bool"
      ]
     },
     "execution_count": 40,
     "metadata": {},
     "output_type": "execute_result"
    }
   ],
   "source": [
    "temp"
   ]
  },
  {
   "cell_type": "code",
   "execution_count": 45,
   "id": "f4e57348-6e77-4fac-86ee-c5a3a13b8bc7",
   "metadata": {},
   "outputs": [
    {
     "data": {
      "text/plain": [
       "array([False,  True])"
      ]
     },
     "execution_count": 45,
     "metadata": {},
     "output_type": "execute_result"
    }
   ],
   "source": [
    "temp.unique() # here show unique value "
   ]
  },
  {
   "cell_type": "code",
   "execution_count": 48,
   "id": "9cd0c48d-d156-4756-84e4-abb50a749ba9",
   "metadata": {},
   "outputs": [
    {
     "data": {
      "text/plain": [
       "array(['CPIM.SE901', 'CPIM.SE9011', 'CPIM.SE901101', 'CPIM.SE901102',\n",
       "       'CPIM.SE9012', 'CPIM.SE901201', 'CPIM.SE9012011', 'CPIM.SE9012012',\n",
       "       'CPIM.SE9012013', 'CPIM.SE9012014', 'CPIM.SE9012016',\n",
       "       'CPIM.SE901202', 'CPIM.SE9013', 'CPIM.SE901301', 'CPIM.SE9013011',\n",
       "       'CPIM.SE9013012', 'CPIM.SE9013013', 'CPIM.SE9013014',\n",
       "       'CPIM.SE9013015', 'CPIM.SE9013016', 'CPIM.SE901302',\n",
       "       'CPIM.SE9013021', 'CPIM.SE9013022', 'CPIM.SE9013023',\n",
       "       'CPIM.SE9013024', 'CPIM.SE9013025', 'CPIM.SE9013026',\n",
       "       'CPIM.SE901303', 'CPIM.SE901304', 'CPIM.SE901305', 'CPIM.SE901306',\n",
       "       'CPIM.SE9014', 'CPIM.SE901401', 'CPIM.SE901402', 'CPIM.SE9015',\n",
       "       'CPIM.SE901501', 'CPIM.SE901502'], dtype=object)"
      ]
     },
     "execution_count": 48,
     "metadata": {},
     "output_type": "execute_result"
    }
   ],
   "source": [
    "df['Series_reference'].unique() # here show unique value "
   ]
  },
  {
   "cell_type": "code",
   "execution_count": 49,
   "id": "fe3f1d5b-b0aa-46e7-b765-17b2faca6d92",
   "metadata": {},
   "outputs": [
    {
     "data": {
      "text/plain": [
       "Series_reference\n",
       "CPIM.SE901        765\n",
       "CPIM.SE9012       693\n",
       "CPIM.SE9012014    537\n",
       "CPIM.SE901202     537\n",
       "CPIM.SE901501     537\n",
       "CPIM.SE9012011    417\n",
       "CPIM.SE9012012    417\n",
       "CPIM.SE9012013    417\n",
       "CPIM.SE9012016    417\n",
       "CPIM.SE9013026    417\n",
       "CPIM.SE9013011    417\n",
       "CPIM.SE9013013    417\n",
       "CPIM.SE9015       292\n",
       "CPIM.SE901305     292\n",
       "CPIM.SE9013025    292\n",
       "CPIM.SE901303     292\n",
       "CPIM.SE901304     292\n",
       "CPIM.SE9014       292\n",
       "CPIM.SE901306     292\n",
       "CPIM.SE901402     292\n",
       "CPIM.SE901401     292\n",
       "CPIM.SE9013023    292\n",
       "CPIM.SE9013024    292\n",
       "CPIM.SE901502     292\n",
       "CPIM.SE9013021    292\n",
       "CPIM.SE901302     292\n",
       "CPIM.SE9011       292\n",
       "CPIM.SE901301     292\n",
       "CPIM.SE9013       292\n",
       "CPIM.SE901201     292\n",
       "CPIM.SE901102     292\n",
       "CPIM.SE901101     292\n",
       "CPIM.SE9013022    208\n",
       "CPIM.SE9013016    208\n",
       "CPIM.SE9013014    208\n",
       "CPIM.SE9013012    208\n",
       "CPIM.SE9013015    208\n",
       "Name: count, dtype: int64"
      ]
     },
     "execution_count": 49,
     "metadata": {},
     "output_type": "execute_result"
    }
   ],
   "source": [
    "df['Series_reference'].value_counts() # here show indidual each count "
   ]
  },
  {
   "cell_type": "code",
   "execution_count": 50,
   "id": "da1bf87e-25f2-4fbb-bed3-9a613df88a1b",
   "metadata": {},
   "outputs": [
    {
     "data": {
      "text/plain": [
       "Index(['Series_reference', 'Period', 'Data_value', 'STATUS', 'UNITS',\n",
       "       'Subject', 'Group', 'Series_title_1'],\n",
       "      dtype='object')"
      ]
     },
     "execution_count": 50,
     "metadata": {},
     "output_type": "execute_result"
    }
   ],
   "source": [
    "df.columns"
   ]
  },
  {
   "cell_type": "code",
   "execution_count": 55,
   "id": "37552542-0486-4f23-af33-704ede82ec1c",
   "metadata": {},
   "outputs": [
    {
     "data": {
      "text/plain": [
       "['Series_reference',\n",
       " 'Period',\n",
       " 'Data_value',\n",
       " 'UNITS',\n",
       " 'Group',\n",
       " 'Series_title_1']"
      ]
     },
     "execution_count": 55,
     "metadata": {},
     "output_type": "execute_result"
    }
   ],
   "source": [
    "[col for col in df.columns if col not in ['STATUS','Subject']] # here we apply list comprehension "
   ]
  },
  {
   "cell_type": "code",
   "execution_count": null,
   "id": "43d029ab-4fee-43e8-8b82-a39c2c614395",
   "metadata": {},
   "outputs": [],
   "source": []
  },
  {
   "cell_type": "code",
   "execution_count": null,
   "id": "71f1ac56-22d6-4327-b5d6-977d45b166d6",
   "metadata": {},
   "outputs": [],
   "source": []
  }
 ],
 "metadata": {
  "kernelspec": {
   "display_name": "Python 3 (ipykernel)",
   "language": "python",
   "name": "python3"
  },
  "language_info": {
   "codemirror_mode": {
    "name": "ipython",
    "version": 3
   },
   "file_extension": ".py",
   "mimetype": "text/x-python",
   "name": "python",
   "nbconvert_exporter": "python",
   "pygments_lexer": "ipython3",
   "version": "3.11.7"
  }
 },
 "nbformat": 4,
 "nbformat_minor": 5
}
